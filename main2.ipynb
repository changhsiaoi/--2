{
 "cells": [
  {
   "cell_type": "code",
   "execution_count": 3,
   "metadata": {},
   "outputs": [
    {
     "name": "stderr",
     "output_type": "stream",
     "text": [
      "C:\\Users\\user\\AppData\\Local\\Temp\\ipykernel_8012\\1759853974.py:13: DeprecationWarning: ANTIALIAS is deprecated and will be removed in Pillow 10 (2023-07-01). Use Resampling.LANCZOS instead.\n",
      "  buttonImage = Image.open('button.png').resize((50,50), Image.ANTIALIAS) #resize設定大小\n"
     ]
    }
   ],
   "source": [
    "import tkinter as tk #本名is tkinter ,小名 is tk\n",
    "from PIL import Image, ImageTk\n",
    "\n",
    "class Window(tk.Tk):\n",
    "    def __init__(self):\n",
    "        super().__init__()\n",
    "        bgImage = Image.open('bg.jpg')        \n",
    "        self.tkImage = ImageTk.PhotoImage(bgImage)\n",
    "        mainCanvas = tk.Canvas(self)        \n",
    "        mainCanvas.create_image(0,0,anchor=tk.NW,image=self.tkImage)\n",
    "        \n",
    "        \n",
    "        buttonImage = Image.open('button.png').resize((50,50), Image.ANTIALIAS) #resize設定大小        \n",
    "        self.tk2Image = ImageTk.PhotoImage(buttonImage)        \n",
    "        tk.Button(mainCanvas,image=self.tk2Image,text=\"click\").pack()     \n",
    "        mainCanvas.pack(fill=tk.BOTH, expand=True)\n",
    "        \n",
    "\n",
    "def main():\n",
    "    window = Window()\n",
    "    window.title(\"Frame框架\")\n",
    "    window.geometry(\"640x427\")\n",
    "    window.mainloop()\n",
    "\n",
    "if __name__ == \"__main__\":\n",
    "    main()"
   ]
  }
 ],
 "metadata": {
  "kernelspec": {
   "display_name": "Python 3.10.7 ('venv02')",
   "language": "python",
   "name": "python3"
  },
  "language_info": {
   "codemirror_mode": {
    "name": "ipython",
    "version": 3
   },
   "file_extension": ".py",
   "mimetype": "text/x-python",
   "name": "python",
   "nbconvert_exporter": "python",
   "pygments_lexer": "ipython3",
   "version": "3.10.7"
  },
  "orig_nbformat": 4,
  "vscode": {
   "interpreter": {
    "hash": "3700e69ab96b846ef807f9c200db10a73cef39fcec0e30aa1890bcfc733e2542"
   }
  }
 },
 "nbformat": 4,
 "nbformat_minor": 2
}
